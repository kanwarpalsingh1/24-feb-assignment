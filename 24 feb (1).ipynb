{
 "cells": [
  {
   "cell_type": "code",
   "execution_count": 3,
   "id": "f280a758-bb5f-46d4-be4c-cf9d10ee19d4",
   "metadata": {},
   "outputs": [
    {
     "name": "stdout",
     "output_type": "stream",
     "text": [
      "Sum of the first three values: 60\n"
     ]
    }
   ],
   "source": [
    "'''You have a Pandas DataFrame df with a column named 'Values'. Write a Python function that\n",
    "iterates over the DataFrame and calculates the sum of the first three values in the 'Values' column. The\n",
    "function should print the sum to the console.'''\n",
    "import pandas as pd\n",
    "\n",
    "def calculate_sum_of_first_three_values(df):\n",
    "    # Extract the first three values from the 'Values' column\n",
    "    first_three_values = df['Values'].head(3)\n",
    "    \n",
    "    # Calculate the sum of the first three values\n",
    "    sum_of_values = first_three_values.sum()\n",
    "    \n",
    "    # Print the sum to the console\n",
    "    print(\"Sum of the first three values:\", sum_of_values)\n",
    "\n",
    "# Example DataFrame\n",
    "df = pd.DataFrame({'Values': [10, 20, 30, 40, 50]})\n",
    "\n",
    "# Call the function with the DataFrame\n",
    "calculate_sum_of_first_three_values(df)"
   ]
  },
  {
   "cell_type": "code",
   "execution_count": 4,
   "id": "534b682c-9fd3-4982-b9d4-51792fa9b46f",
   "metadata": {},
   "outputs": [
    {
     "name": "stdout",
     "output_type": "stream",
     "text": [
      "                        Text  Word_Count\n",
      "0      This is a sample text           5\n",
      "1            Another example           2\n",
      "2  Python Pandas is powerful           4\n"
     ]
    }
   ],
   "source": [
    "'''Q4. Given a Pandas DataFrame df with a column 'Text', write a Python function to create a new column\n",
    "'Word_Count' that contains the number of words in each row of the 'Text' column.'''\n",
    "import pandas as pd\n",
    "\n",
    "def count_words(text):\n",
    "    # Split the text into words using whitespace as the delimiter and count the number of words\n",
    "    return len(text.split())\n",
    "\n",
    "def add_word_count_column(df):\n",
    "    # Apply the count_words function to each row of the 'Text' column and store the result in a new column 'Word_Count'\n",
    "    df['Word_Count'] = df['Text'].apply(count_words)\n",
    "\n",
    "# Example DataFrame\n",
    "df = pd.DataFrame({'Text': ['This is a sample text', 'Another example', 'Python Pandas is powerful']})\n",
    "\n",
    "# Call the function to add the 'Word_Count' column\n",
    "add_word_count_column(df)\n",
    "\n",
    "# Print the DataFrame with the new column\n",
    "print(df)"
   ]
  },
  {
   "cell_type": "code",
   "execution_count": 5,
   "id": "280caaa8-ff89-4ca8-965e-09923abf239c",
   "metadata": {},
   "outputs": [
    {
     "name": "stdout",
     "output_type": "stream",
     "text": [
      "DataFrame size: 6\n",
      "DataFrame shape: (3, 2)\n"
     ]
    }
   ],
   "source": [
    "'''Q5. How are DataFrame.size() and DataFrame.shape() different?'''\n",
    "import pandas as pd\n",
    "\n",
    "# Create a DataFrame\n",
    "df = pd.DataFrame({'A': [1, 2, 3], 'B': [4, 5, 6]})\n",
    "\n",
    "# Calculate size and shape\n",
    "size = df.size\n",
    "shape = df.shape\n",
    "\n",
    "print(\"DataFrame size:\", size)  # Total number of elements (3 rows * 2 columns = 6)\n",
    "print(\"DataFrame shape:\", shape) "
   ]
  },
  {
   "cell_type": "code",
   "execution_count": 7,
   "id": "f786c2bc-0b00-4a1a-a0df-ea9368ecf307",
   "metadata": {},
   "outputs": [
    {
     "name": "stdout",
     "output_type": "stream",
     "text": [
      "                    Email    Username\n",
      "0    john.doe@example.com    john.doe\n",
      "1  jane.smith@example.com  jane.smith\n",
      "2       alice@example.com       alice\n"
     ]
    }
   ],
   "source": [
    "'''Q7. You have a Pandas DataFrame df that contains a column named 'Email' that contains email\n",
    "addresses in the format 'username@domain.com'. Write a Python function that creates a new column\n",
    "'Username' in df that contains only the username part of each email address.\n",
    "The username is the part of the email address that appears before the '@' symbol. For example, if the\n",
    "email address is 'john.doe@example.com', the 'Username' column should contain 'john.doe'. Your\n",
    "function should extract the username from each email address and store it in the new 'Username'\n",
    "column.'''\n",
    "import pandas as pd\n",
    "\n",
    "def extract_username(email):\n",
    "    # Split the email address using the '@' symbol as the delimiter and return the first part (username)\n",
    "    return email.split('@')[0]\n",
    "\n",
    "def add_username_column(df):\n",
    "    # Apply the extract_username function to each row of the 'Email' column and store the result in a new column 'Username'\n",
    "    df['Username'] = df['Email'].apply(extract_username)\n",
    "\n",
    "# Example DataFrame\n",
    "df = pd.DataFrame({'Email': ['john.doe@example.com', 'jane.smith@example.com', 'alice@example.com']})\n",
    "\n",
    "# Call the function to add the 'Username' column\n",
    "add_username_column(df)\n",
    "\n",
    "print(df)"
   ]
  },
  {
   "cell_type": "code",
   "execution_count": 8,
   "id": "244cec38-b3ba-44c6-ac85-c998b1f8bfaa",
   "metadata": {},
   "outputs": [
    {
     "name": "stdout",
     "output_type": "stream",
     "text": [
      "   A  B  C\n",
      "1  8  2  7\n",
      "2  6  9  4\n",
      "4  9  1  2\n"
     ]
    }
   ],
   "source": [
    "'''Q8. You have a Pandas DataFrame df with columns 'A', 'B', and 'C'. Write a Python function that selects\n",
    "all rows where the value in column 'A' is greater than 5 and the value in column 'B' is less than 10. The\n",
    "function should return a new DataFrame that contains only the selected rows.\n",
    "For example, if df contains the following values:\n",
    "A B C\n",
    "0 3 5 1\n",
    "1 8 2 7\n",
    "2 6 9 4\n",
    "3 2 3 5\n",
    "4 9 1 2'''\n",
    "import pandas as pd\n",
    "\n",
    "def select_rows(df):\n",
    "    # Filter the DataFrame based on the specified conditions\n",
    "    selected_rows = df[(df['A'] > 5) & (df['B'] < 10)]\n",
    "    \n",
    "    # Return the new DataFrame containing only the selected rows\n",
    "    return selected_rows\n",
    "\n",
    "# Example DataFrame\n",
    "df = pd.DataFrame({'A': [3, 8, 6, 2, 9],\n",
    "                   'B': [5, 2, 9, 3, 1],\n",
    "                   'C': [1, 7, 4, 5, 2]})\n",
    "\n",
    "# Call the function to select rows\n",
    "selected_df = select_rows(df)\n",
    "\n",
    "# Print the new DataFrame containing only the selected rows\n",
    "print(selected_df)"
   ]
  },
  {
   "cell_type": "code",
   "execution_count": null,
   "id": "667df68f-1e5e-4f41-9ee9-c7cda96504e8",
   "metadata": {},
   "outputs": [],
   "source": []
  }
 ],
 "metadata": {
  "kernelspec": {
   "display_name": "Python 3 (ipykernel)",
   "language": "python",
   "name": "python3"
  },
  "language_info": {
   "codemirror_mode": {
    "name": "ipython",
    "version": 3
   },
   "file_extension": ".py",
   "mimetype": "text/x-python",
   "name": "python",
   "nbconvert_exporter": "python",
   "pygments_lexer": "ipython3",
   "version": "3.10.8"
  }
 },
 "nbformat": 4,
 "nbformat_minor": 5
}
